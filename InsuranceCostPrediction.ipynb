{
  "nbformat": 4,
  "nbformat_minor": 0,
  "metadata": {
    "colab": {
      "provenance": [],
      "authorship_tag": "ABX9TyMTXbVto18cR8RydLkIsAWU",
      "include_colab_link": true
    },
    "kernelspec": {
      "name": "python3",
      "display_name": "Python 3"
    },
    "language_info": {
      "name": "python"
    }
  },
  "cells": [
    {
      "cell_type": "markdown",
      "metadata": {
        "id": "view-in-github",
        "colab_type": "text"
      },
      "source": [
        "<a href=\"https://colab.research.google.com/github/solar-node/ML/blob/main/InsuranceCostPrediction.ipynb\" target=\"_parent\"><img src=\"https://colab.research.google.com/assets/colab-badge.svg\" alt=\"Open In Colab\"/></a>"
      ]
    },
    {
      "cell_type": "markdown",
      "source": [
        "### Importing"
      ],
      "metadata": {
        "id": "6gBxGGJi7mk7"
      }
    },
    {
      "cell_type": "code",
      "execution_count": 10,
      "metadata": {
        "id": "noohCTttpxAZ"
      },
      "outputs": [],
      "source": [
        "import numpy as np\n",
        "import pandas as pd\n",
        "import matplotlib.pyplot as plt\n",
        "import seaborn as sns\n",
        "from sklearn.model_selection import train_test_split\n",
        "from sklearn.linear_model import LinearRegression\n",
        "from sklearn import metrics"
      ]
    },
    {
      "cell_type": "code",
      "source": [
        "from google.colab import drive\n",
        "drive.mount('/content/drive')"
      ],
      "metadata": {
        "id": "Pc5l141ET4WD"
      },
      "execution_count": null,
      "outputs": []
    },
    {
      "cell_type": "code",
      "source": [
        "# Data collection and processing\n",
        "insurance_dataset=pd.read_csv(\"/content/drive/MyDrive/ML Projects/insurance.csv\")\n",
        "insurance_dataset.head()"
      ],
      "metadata": {
        "id": "vzQHFwkl9Ov0"
      },
      "execution_count": null,
      "outputs": []
    },
    {
      "cell_type": "code",
      "source": [
        "# no. of rows and columns\n",
        "insurance_dataset.shape"
      ],
      "metadata": {
        "id": "A5nDg7y2949X"
      },
      "execution_count": null,
      "outputs": []
    },
    {
      "cell_type": "code",
      "source": [
        "# Getting some info. about dataset\n",
        "insurance_dataset.info()"
      ],
      "metadata": {
        "id": "5pBEJhYd-GsG"
      },
      "execution_count": null,
      "outputs": []
    },
    {
      "cell_type": "markdown",
      "source": [
        "categorical features:\n",
        "- Sex/Gender\n",
        "- Smoker\n",
        "- Region\n",
        "\n",
        "Target: Charges"
      ],
      "metadata": {
        "id": "nyN2lo7R-g7-"
      }
    },
    {
      "cell_type": "code",
      "source": [
        "# Checking for missing value\n",
        "insurance_dataset.isnull().sum()"
      ],
      "metadata": {
        "id": "v8vaWHuD-vjB"
      },
      "execution_count": null,
      "outputs": []
    },
    {
      "cell_type": "markdown",
      "source": [
        "### Data Analysis"
      ],
      "metadata": {
        "id": "xl2MXcIM_PNT"
      }
    },
    {
      "cell_type": "code",
      "source": [
        "# Statistical measure of the dataset\n",
        "insurance_dataset.describe()"
      ],
      "metadata": {
        "id": "UKOsg45v_LOL"
      },
      "execution_count": null,
      "outputs": []
    },
    {
      "cell_type": "code",
      "source": [
        "# Distrubution of age value\n",
        "sns.set()\n",
        "plt.figure(figsize=(8,6))\n",
        "sns.distplot(insurance_dataset['age'])\n",
        "\n",
        "plt.title('Age distribution')\n",
        "plt.show()"
      ],
      "metadata": {
        "id": "LKXr10-C_5ur"
      },
      "execution_count": null,
      "outputs": []
    },
    {
      "cell_type": "code",
      "source": [
        "# Gender column\n",
        "plt.figure(figsize=(6,6))\n",
        "sns.countplot(x='sex',data=insurance_dataset,palette=\"viridis\")\n",
        "\n",
        "plt.title('Gender distribution')\n",
        "plt.show()"
      ],
      "metadata": {
        "id": "lVswYjs8A3tg"
      },
      "execution_count": null,
      "outputs": []
    },
    {
      "cell_type": "code",
      "source": [
        "insurance_dataset['sex'].value_counts()"
      ],
      "metadata": {
        "id": "cQ97lavhBqyF"
      },
      "execution_count": null,
      "outputs": []
    },
    {
      "cell_type": "code",
      "source": [
        "# BMI distribution in dataset\n",
        "plt.figure(figsize=(8,6))\n",
        "sns.distplot(insurance_dataset['bmi'])\n",
        "\n",
        "plt.title('BMI distribution')\n",
        "plt.show()"
      ],
      "metadata": {
        "id": "2DHT4cnyB5u7"
      },
      "execution_count": null,
      "outputs": []
    },
    {
      "cell_type": "markdown",
      "source": [
        "Normal BMI range : 18.5 -> 25"
      ],
      "metadata": {
        "id": "_-mzTK-XCOUH"
      }
    },
    {
      "cell_type": "code",
      "source": [
        "# Children column\n",
        "plt.figure(figsize=(6,6))\n",
        "sns.countplot(x='children',data=insurance_dataset,palette=\"viridis\")\n",
        "\n",
        "plt.title('children')\n",
        "plt.show()"
      ],
      "metadata": {
        "id": "mMEbG1XmCief"
      },
      "execution_count": null,
      "outputs": []
    },
    {
      "cell_type": "code",
      "source": [
        "insurance_dataset['children'].value_counts()"
      ],
      "metadata": {
        "id": "_cOO6FVfC9Iv"
      },
      "execution_count": null,
      "outputs": []
    },
    {
      "cell_type": "code",
      "source": [
        "# Smoker column\n",
        "plt.figure(figsize=(6,6))\n",
        "sns.countplot(x='smoker',data=insurance_dataset,palette=\"viridis\")\n",
        "\n",
        "plt.title('Smoker distribution')\n",
        "plt.show()"
      ],
      "metadata": {
        "id": "ZW5BVWD-DRqT"
      },
      "execution_count": null,
      "outputs": []
    },
    {
      "cell_type": "code",
      "source": [
        "insurance_dataset['smoker'].value_counts()"
      ],
      "metadata": {
        "id": "TG6opFfCDi1G"
      },
      "execution_count": null,
      "outputs": []
    },
    {
      "cell_type": "code",
      "source": [
        "# Region column\n",
        "plt.figure(figsize=(6,6))\n",
        "sns.countplot(x='region',data=insurance_dataset,palette=\"viridis\")\n",
        "\n",
        "plt.title('Region distribution')\n",
        "plt.show()"
      ],
      "metadata": {
        "id": "fIOQv6XQXTta"
      },
      "execution_count": null,
      "outputs": []
    },
    {
      "cell_type": "code",
      "source": [
        "insurance_dataset['region'].value_counts()"
      ],
      "metadata": {
        "id": "vuP7oknZYbQa"
      },
      "execution_count": null,
      "outputs": []
    },
    {
      "cell_type": "code",
      "source": [
        "# For age and BMI count plot will not be good because of many values\n",
        "# USe distribution plot\n",
        "\n",
        "# Charges distribution\n",
        "plt.figure(figsize=(8,6))\n",
        "sns.distplot(insurance_dataset['charges'])\n",
        "\n",
        "plt.title('Charge distribution')\n",
        "plt.show()"
      ],
      "metadata": {
        "id": "ldJeiolxYu2X"
      },
      "execution_count": null,
      "outputs": []
    },
    {
      "cell_type": "markdown",
      "source": [
        "## Data Pre-processing\n"
      ],
      "metadata": {
        "id": "FwKOrsRFZSCj"
      }
    },
    {
      "cell_type": "markdown",
      "source": [
        "### Encoding the categorical features:\n"
      ],
      "metadata": {
        "id": "ewsh85-eZyeT"
      }
    },
    {
      "cell_type": "code",
      "source": [
        "\n",
        "# Encoding the gender/sex column\n",
        "insurance_dataset.replace({'sex':{'male':0,'female':1}},inplace=True)\n",
        "\n",
        "# Encoding smoker column\n",
        "insurance_dataset.replace({'smoker':{'yes':0,'no':1}},inplace=True)\n",
        "\n",
        "# Encoding region column\n",
        "insurance_dataset.replace({'region':{'southeast':0,'southwest':1,'northeast':2,'northwest':3}},inplace=True)\n",
        "\n",
        "insurance_dataset\n"
      ],
      "metadata": {
        "id": "7oLYr6VhZX7G"
      },
      "execution_count": null,
      "outputs": []
    },
    {
      "cell_type": "code",
      "source": [
        "# Splitting the features and target\n",
        "X=insurance_dataset.drop(columns='charges',axis=1)  #X contains all the other features not target\n",
        "Y=insurance_dataset['charges']  #Y contains the targert(charges )\n",
        "print(X)\n"
      ],
      "metadata": {
        "id": "FIyqWSSPcODf"
      },
      "execution_count": null,
      "outputs": []
    },
    {
      "cell_type": "code",
      "source": [
        "print(Y)"
      ],
      "metadata": {
        "id": "z1jYx-L0dllr"
      },
      "execution_count": null,
      "outputs": []
    },
    {
      "cell_type": "code",
      "source": [
        "# Splitting the data into training data and testing data\n",
        "X_train, X_test, Y_train, Y_test = train_test_split(X, Y, test_size=0.2,  random_state=2)"
      ],
      "metadata": {
        "id": "YNM8flykdq1D"
      },
      "execution_count": 31,
      "outputs": []
    },
    {
      "cell_type": "code",
      "source": [
        "# Knowing the shape of our train and test data\n",
        "print(X.shape,X_train.shape, X_test.shape)\n",
        "print(Y.shape,Y_train.shape, Y_test.shape)"
      ],
      "metadata": {
        "id": "moTbdBBGfMJv"
      },
      "execution_count": null,
      "outputs": []
    },
    {
      "cell_type": "markdown",
      "source": [
        "## Model Training\n"
      ],
      "metadata": {
        "id": "sIllDy0AfqWW"
      }
    },
    {
      "cell_type": "code",
      "source": [
        "# Linear regression model training\n",
        "\n",
        "# Loading the Linear regression model\n",
        "regressor= LinearRegression()"
      ],
      "metadata": {
        "id": "KPosAMaQfs3d"
      },
      "execution_count": 33,
      "outputs": []
    },
    {
      "cell_type": "code",
      "source": [
        "# Fitting the training data into regress or to make the line of regression by using the points\n",
        "regressor.fit(X_train,Y_train)\n",
        "\n",
        "# Now model has been trained and its time to evaluate/test"
      ],
      "metadata": {
        "id": "oWRIYrPJhOVf"
      },
      "execution_count": null,
      "outputs": []
    },
    {
      "cell_type": "markdown",
      "source": [
        "### Model Evaluation"
      ],
      "metadata": {
        "id": "c5AKQU01h9XH"
      }
    },
    {
      "cell_type": "code",
      "source": [
        "# Prediction on training data\n",
        "training_data_prediction = regressor.predict(X_train)\n"
      ],
      "metadata": {
        "id": "j2eSai2piAoD"
      },
      "execution_count": 35,
      "outputs": []
    },
    {
      "cell_type": "code",
      "source": [
        "# R squared value : if value is close to 1 then our model is performing well.\n",
        "r2_train = metrics.r2_score(Y_train, training_data_prediction)\n",
        "print('R Squared value : ',r2_train)"
      ],
      "metadata": {
        "id": "uu28jeSxiQ5D"
      },
      "execution_count": null,
      "outputs": []
    },
    {
      "cell_type": "code",
      "source": [
        "# Prediction on testing  data\n",
        "test_data_prediction = regressor.predict(X_test )"
      ],
      "metadata": {
        "id": "-jagjJAqjaxB"
      },
      "execution_count": 37,
      "outputs": []
    },
    {
      "cell_type": "code",
      "source": [
        "# R squared value : if value is close to 1 then our model is performing well.\n",
        "r2_test = metrics.r2_score(Y_test, test_data_prediction)\n",
        "print('R Squared value : ',r2_test)"
      ],
      "metadata": {
        "id": "xNTe-pz0j0Zx",
        "colab": {
          "base_uri": "https://localhost:8080/"
        },
        "outputId": "cf9c1a63-dda6-4628-b4ce-da3f5066c168"
      },
      "execution_count": 38,
      "outputs": [
        {
          "output_type": "stream",
          "name": "stdout",
          "text": [
            "R Squared value :  0.7447273869684076\n"
          ]
        }
      ]
    },
    {
      "cell_type": "markdown",
      "source": [
        "## Building a prediction system"
      ],
      "metadata": {
        "id": "pxhgxvCDkdI_"
      }
    },
    {
      "cell_type": "code",
      "source": [
        "# for input\n",
        "# 'male':0,'female':1\n",
        "# 'yes':0,'no':1\n",
        "# 'southeast':0,'southwest':1,'northeast':2,'northwest':3\n",
        "import warnings\n",
        "warnings.filterwarnings(\"ignore\", category=UserWarning)"
      ],
      "metadata": {
        "id": "icjBl86pnHcM"
      },
      "execution_count": 39,
      "outputs": []
    },
    {
      "cell_type": "code",
      "source": [
        "# Building a system which can predict insurance based on the features in input\n",
        "input_data=(25,0,26.22,0,1,2)\n",
        "\n",
        "# changing input_data (tuple) to numpy array\n",
        "input_data_np=np.asarray(input_data)\n",
        "\n",
        "input_data_np\n"
      ],
      "metadata": {
        "id": "BVPfVhEikhKv"
      },
      "execution_count": null,
      "outputs": []
    },
    {
      "cell_type": "code",
      "source": [
        "# Reshaping the array\n",
        "input_data_reshaped = input_data_np.reshape(1,-1)\n",
        "input_data_reshaped"
      ],
      "metadata": {
        "id": "43g1LtXOlti1"
      },
      "execution_count": null,
      "outputs": []
    },
    {
      "cell_type": "code",
      "source": [
        "# Predicting from the model\n",
        "prediction = regressor.predict(input_data_reshaped)\n",
        "print('The insurance cost is : ',prediction[0])"
      ],
      "metadata": {
        "colab": {
          "base_uri": "https://localhost:8080/"
        },
        "id": "N4jydqZemWuz",
        "outputId": "63687460-348f-4461-8cc2-a069c670e51f"
      },
      "execution_count": 42,
      "outputs": [
        {
          "output_type": "stream",
          "name": "stdout",
          "text": [
            "The insurance cost is :  2808.687798001414\n"
          ]
        }
      ]
    }
  ]
}